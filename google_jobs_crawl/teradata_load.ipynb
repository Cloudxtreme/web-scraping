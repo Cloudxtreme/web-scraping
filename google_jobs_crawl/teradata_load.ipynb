{
 "cells": [
  {
   "cell_type": "code",
   "execution_count": 56,
   "metadata": {},
   "outputs": [
    {
     "ename": "ImportError",
     "evalue": "No module named pyodbc",
     "output_type": "error",
     "traceback": [
      "\u001b[0;31m-----------------------------------------------------------------------\u001b[0m",
      "\u001b[0;31mImportError\u001b[0m                           Traceback (most recent call last)",
      "\u001b[0;32m<ipython-input-56-47c687329166>\u001b[0m in \u001b[0;36m<module>\u001b[0;34m()\u001b[0m\n\u001b[0;32m----> 1\u001b[0;31m \u001b[0;32mimport\u001b[0m \u001b[0mpyodbc\u001b[0m\u001b[0;34m\u001b[0m\u001b[0m\n\u001b[0m\u001b[1;32m      2\u001b[0m \u001b[0;32mimport\u001b[0m \u001b[0mgetpass\u001b[0m\u001b[0;34m\u001b[0m\u001b[0m\n\u001b[1;32m      3\u001b[0m \u001b[0;32mimport\u001b[0m \u001b[0mcsv\u001b[0m\u001b[0;34m\u001b[0m\u001b[0m\n\u001b[1;32m      4\u001b[0m \u001b[0;34m\u001b[0m\u001b[0m\n\u001b[1;32m      5\u001b[0m \u001b[0musername\u001b[0m \u001b[0;34m=\u001b[0m \u001b[0mgetpass\u001b[0m\u001b[0;34m.\u001b[0m\u001b[0mgetuser\u001b[0m\u001b[0;34m(\u001b[0m\u001b[0;34m)\u001b[0m\u001b[0;34m\u001b[0m\u001b[0m\n",
      "\u001b[0;31mImportError\u001b[0m: No module named pyodbc"
     ]
    }
   ],
   "source": [
    "import csv\n",
    "import pyodbc\n",
    "import getpass\n",
    "import logging\n",
    "import datetime\n",
    "\n",
    "logging.basicConfig(format='%(asctime)s %(message)s', filename='teradata.log', level=logging.DEBUG)\n",
    "log = logging.getLogger(\"my-logger\")\n",
    "logging.basicConfig(format='%(asctime)s %(message)s', filename='error.log', level=logging.DEBUG)\n",
    "log_summary = logging.getLogger(\"log-summary\")\n",
    "             \n",
    "username = getpass.getuser()\n",
    "password = getpass.getpass(prompt='Please enter your teradata password:')\n",
    "\n",
    "print username\n",
    "\n",
    "pyodbc.pooling = False\n",
    "cnx = pyodbc.connect(\"DRIVER={Teradata};DBCNAME=dwprod1.corp.linkedin.com;DATABASE=DWH;AUTHENTICATION=LDAP;UID=%s;PWD=%s\" % (username, password), autocommit=True, ANSI=True)\n",
    "cursor = cnx.cursor()\n",
    "\n",
    "#create date_string\n",
    "today = datetime.date.today()\n",
    "mydate = str(today.year) + '_' + str(today.month) + '_' + str(today.day)\n",
    "\n",
    "with open(\"google_jobs_results_\" + mydate + \".tsv\") as input:\n",
    "    mydata = [line.strip().split('\\t') for line in input]\n",
    "    \n",
    "current_progress = 0\n",
    "error_count = 0\n",
    "for i in range(len(mydata)):\n",
    "    if len(mydata[i]) == 11:\n",
    "        mydatafinal = mydata[i][0:8] + [mydata[i][8][0:31000]] + [mydata[i][8][31001:62000]] + [mydata[i][8][62001:93000]] + mydata[i][9:10]\n",
    "        for j in range(len(mydatafinal)):\n",
    "            mydatafinal[j] = mydatafinal[j].replace(\"'\",\"''\")     \n",
    "        try:\n",
    "            sql = \"\"\"INSERT INTO dm_biz.google_jobs_crawl4 \n",
    "            VALUES ('{0}','{1}','{2}','{3}','{4}','{5}','{6}','{7}','{8}','{9}','{10}','{11}', current_time)\"\"\".format(*mydatafinal)\n",
    "        except SyntaxError, e:\n",
    "            print(\"Failed to generate sql\")\n",
    "            log.error(\"Failed to generate sql at index: \" + str(i))\n",
    "            log.error(\"Failed to generate sql at index: \" + str(e))\n",
    "            error_count += 1\n",
    "        try:\n",
    "            cursor.execute(sql)\n",
    "        except Exception, e:\n",
    "            print(\"failed to insert data\")\n",
    "            log.error(\"failed to generate sql at index\" + str(i))\n",
    "            log.error(str(mydatafinal))\n",
    "            log.error('Failed to do something: ' + str(e))\n",
    "            error_count += 1\n",
    "        print(\"current_progress: \" + str(current_progress))\n",
    "        current_progress += 1\n",
    "\n",
    "log_summary.info(\"total number of errors: \" + str(error_count))        \n",
    "\n",
    "cursor.close()\n",
    "del cursor\n",
    "cnx.close()"
   ]
  },
  {
   "cell_type": "code",
   "execution_count": 2,
   "metadata": {
    "collapsed": true
   },
   "outputs": [],
   "source": [
    "import datetime"
   ]
  },
  {
   "cell_type": "code",
   "execution_count": 3,
   "metadata": {
    "collapsed": true
   },
   "outputs": [],
   "source": [
    "today = datetime.date.today()"
   ]
  },
  {
   "cell_type": "code",
   "execution_count": 7,
   "metadata": {},
   "outputs": [
    {
     "data": {
      "text/plain": [
       "datetime.date(2017, 7, 28)"
      ]
     },
     "execution_count": 7,
     "metadata": {},
     "output_type": "execute_result"
    }
   ],
   "source": [
    "today"
   ]
  },
  {
   "cell_type": "code",
   "execution_count": 14,
   "metadata": {},
   "outputs": [
    {
     "data": {
      "text/plain": [
       "2017"
      ]
     },
     "execution_count": 14,
     "metadata": {},
     "output_type": "execute_result"
    }
   ],
   "source": [
    "today.year"
   ]
  },
  {
   "cell_type": "code",
   "execution_count": 15,
   "metadata": {},
   "outputs": [
    {
     "data": {
      "text/plain": [
       "7"
      ]
     },
     "execution_count": 15,
     "metadata": {},
     "output_type": "execute_result"
    }
   ],
   "source": [
    "today.month"
   ]
  },
  {
   "cell_type": "code",
   "execution_count": 16,
   "metadata": {},
   "outputs": [
    {
     "data": {
      "text/plain": [
       "28"
      ]
     },
     "execution_count": 16,
     "metadata": {},
     "output_type": "execute_result"
    }
   ],
   "source": [
    "today.day"
   ]
  },
  {
   "cell_type": "code",
   "execution_count": 17,
   "metadata": {},
   "outputs": [
    {
     "data": {
      "text/plain": [
       "'2017_7_28'"
      ]
     },
     "execution_count": 17,
     "metadata": {},
     "output_type": "execute_result"
    }
   ],
   "source": [
    "str(today.year) + '_' + str(today.month) + '_' + str(today.day)"
   ]
  },
  {
   "cell_type": "code",
   "execution_count": null,
   "metadata": {
    "collapsed": true
   },
   "outputs": [],
   "source": []
  }
 ],
 "metadata": {
  "kernelspec": {
   "display_name": "Python 2",
   "language": "python",
   "name": "python2"
  },
  "language_info": {
   "codemirror_mode": {
    "name": "ipython",
    "version": 2
   },
   "file_extension": ".py",
   "mimetype": "text/x-python",
   "name": "python",
   "nbconvert_exporter": "python",
   "pygments_lexer": "ipython2",
   "version": "2.7.10"
  }
 },
 "nbformat": 4,
 "nbformat_minor": 2
}
